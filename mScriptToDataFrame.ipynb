{
 "cells": [
  {
   "cell_type": "code",
   "execution_count": 2,
   "metadata": {},
   "outputs": [
    {
     "name": "stderr",
     "output_type": "stream",
     "text": [
      "C:\\Users\\chandan.bhardwaj\\AppData\\Local\\Temp\\ipykernel_12900\\161967773.py:3: DeprecationWarning: \n",
      "Pyarrow will become a required dependency of pandas in the next major release of pandas (pandas 3.0),\n",
      "(to allow more performant data types, such as the Arrow string type, and better interoperability with other libraries)\n",
      "but was not found to be installed on your system.\n",
      "If this would cause problems for you,\n",
      "please provide us feedback at https://github.com/pandas-dev/pandas/issues/54466\n",
      "        \n",
      "  import pandas as pd\n"
     ]
    }
   ],
   "source": [
    "import yaml\n",
    "import requests\n",
    "import pandas as pd\n",
    "from bs4 import BeautifulSoup\n",
    "from datetime import datetime as dt\n",
    "import numpy as np\n",
    "import pyodbc\n",
    "import traceback"
   ]
  },
  {
   "cell_type": "code",
   "execution_count": 3,
   "metadata": {},
   "outputs": [],
   "source": [
    "from io import StringIO"
   ]
  },
  {
   "cell_type": "code",
   "execution_count": 4,
   "metadata": {},
   "outputs": [],
   "source": [
    "url = \"https://in.investing.com/commodities/brent-oil-historical-data\"\n",
    "response = requests.get(url, headers={'User-Agent': 'Mozilla/5.0'})"
   ]
  },
  {
   "cell_type": "code",
   "execution_count": 5,
   "metadata": {},
   "outputs": [],
   "source": [
    "soup = BeautifulSoup(response.content, 'html.parser')"
   ]
  },
  {
   "cell_type": "code",
   "execution_count": 6,
   "metadata": {},
   "outputs": [],
   "source": [
    "url = \"https://in.investing.com/commodities/brent-oil-historical-data\"\n",
    "response = requests.get(url, headers={'User-Agent': 'Mozilla/5.0'})"
   ]
  },
  {
   "cell_type": "code",
   "execution_count": 7,
   "metadata": {},
   "outputs": [],
   "source": [
    "# Wrap the HTML content in a StringIO object\n",
    "html_content = StringIO(response.text)"
   ]
  },
  {
   "cell_type": "code",
   "execution_count": 11,
   "metadata": {},
   "outputs": [],
   "source": [
    "#!pip install lxml"
   ]
  },
  {
   "cell_type": "code",
   "execution_count": 8,
   "metadata": {},
   "outputs": [],
   "source": [
    "# Use pandas read_html to parse the content\n",
    "dfs = pd.read_html(html_content)"
   ]
  },
  {
   "cell_type": "code",
   "execution_count": 9,
   "metadata": {},
   "outputs": [],
   "source": [
    "\n",
    "# Proceed as before\n",
    "df = dfs[1]  # Adjust the index based on which table you need"
   ]
  },
  {
   "cell_type": "code",
   "execution_count": 11,
   "metadata": {},
   "outputs": [
    {
     "data": {
      "text/html": [
       "<div>\n",
       "<style scoped>\n",
       "    .dataframe tbody tr th:only-of-type {\n",
       "        vertical-align: middle;\n",
       "    }\n",
       "\n",
       "    .dataframe tbody tr th {\n",
       "        vertical-align: top;\n",
       "    }\n",
       "\n",
       "    .dataframe thead th {\n",
       "        text-align: right;\n",
       "    }\n",
       "</style>\n",
       "<table border=\"1\" class=\"dataframe\">\n",
       "  <thead>\n",
       "    <tr style=\"text-align: right;\">\n",
       "      <th></th>\n",
       "      <th>Date</th>\n",
       "      <th>Price</th>\n",
       "      <th>Open</th>\n",
       "      <th>High</th>\n",
       "      <th>Low</th>\n",
       "      <th>Volume</th>\n",
       "      <th>Chg%</th>\n",
       "    </tr>\n",
       "  </thead>\n",
       "  <tbody>\n",
       "    <tr>\n",
       "      <th>0</th>\n",
       "      <td>Feb 14, 2024</td>\n",
       "      <td>82.66</td>\n",
       "      <td>82.54</td>\n",
       "      <td>82.75</td>\n",
       "      <td>82.33</td>\n",
       "      <td>0</td>\n",
       "      <td>-0.13%</td>\n",
       "    </tr>\n",
       "    <tr>\n",
       "      <th>1</th>\n",
       "      <td>Feb 13, 2024</td>\n",
       "      <td>82.77</td>\n",
       "      <td>82.00</td>\n",
       "      <td>83.24</td>\n",
       "      <td>81.96</td>\n",
       "      <td>331.80K</td>\n",
       "      <td>0.94%</td>\n",
       "    </tr>\n",
       "    <tr>\n",
       "      <th>2</th>\n",
       "      <td>Feb 12, 2024</td>\n",
       "      <td>82.00</td>\n",
       "      <td>81.94</td>\n",
       "      <td>82.19</td>\n",
       "      <td>80.77</td>\n",
       "      <td>246.24K</td>\n",
       "      <td>-0.23%</td>\n",
       "    </tr>\n",
       "    <tr>\n",
       "      <th>3</th>\n",
       "      <td>Feb 09, 2024</td>\n",
       "      <td>82.19</td>\n",
       "      <td>81.72</td>\n",
       "      <td>82.45</td>\n",
       "      <td>81.21</td>\n",
       "      <td>315.32K</td>\n",
       "      <td>0.69%</td>\n",
       "    </tr>\n",
       "    <tr>\n",
       "      <th>4</th>\n",
       "      <td>Feb 08, 2024</td>\n",
       "      <td>81.63</td>\n",
       "      <td>79.30</td>\n",
       "      <td>81.90</td>\n",
       "      <td>79.03</td>\n",
       "      <td>436.50K</td>\n",
       "      <td>3.06%</td>\n",
       "    </tr>\n",
       "    <tr>\n",
       "      <th>5</th>\n",
       "      <td>Feb 07, 2024</td>\n",
       "      <td>79.21</td>\n",
       "      <td>78.70</td>\n",
       "      <td>79.50</td>\n",
       "      <td>78.49</td>\n",
       "      <td>291.68K</td>\n",
       "      <td>0.79%</td>\n",
       "    </tr>\n",
       "    <tr>\n",
       "      <th>6</th>\n",
       "      <td>Feb 06, 2024</td>\n",
       "      <td>78.59</td>\n",
       "      <td>77.95</td>\n",
       "      <td>79.08</td>\n",
       "      <td>77.63</td>\n",
       "      <td>305.61K</td>\n",
       "      <td>0.77%</td>\n",
       "    </tr>\n",
       "    <tr>\n",
       "      <th>7</th>\n",
       "      <td>Feb 05, 2024</td>\n",
       "      <td>77.99</td>\n",
       "      <td>77.90</td>\n",
       "      <td>78.33</td>\n",
       "      <td>76.62</td>\n",
       "      <td>293.37K</td>\n",
       "      <td>0.85%</td>\n",
       "    </tr>\n",
       "    <tr>\n",
       "      <th>8</th>\n",
       "      <td>Feb 02, 2024</td>\n",
       "      <td>77.33</td>\n",
       "      <td>79.15</td>\n",
       "      <td>79.44</td>\n",
       "      <td>76.85</td>\n",
       "      <td>411.75K</td>\n",
       "      <td>-1.74%</td>\n",
       "    </tr>\n",
       "    <tr>\n",
       "      <th>9</th>\n",
       "      <td>Feb 01, 2024</td>\n",
       "      <td>78.70</td>\n",
       "      <td>80.57</td>\n",
       "      <td>81.55</td>\n",
       "      <td>78.57</td>\n",
       "      <td>525.77K</td>\n",
       "      <td>-3.68%</td>\n",
       "    </tr>\n",
       "    <tr>\n",
       "      <th>10</th>\n",
       "      <td>Jan 31, 2024</td>\n",
       "      <td>81.71</td>\n",
       "      <td>82.94</td>\n",
       "      <td>82.94</td>\n",
       "      <td>81.59</td>\n",
       "      <td>14.38K</td>\n",
       "      <td>-1.40%</td>\n",
       "    </tr>\n",
       "    <tr>\n",
       "      <th>11</th>\n",
       "      <td>Jan 30, 2024</td>\n",
       "      <td>82.87</td>\n",
       "      <td>82.62</td>\n",
       "      <td>83.30</td>\n",
       "      <td>81.34</td>\n",
       "      <td>89.31K</td>\n",
       "      <td>0.57%</td>\n",
       "    </tr>\n",
       "    <tr>\n",
       "      <th>12</th>\n",
       "      <td>Jan 29, 2024</td>\n",
       "      <td>82.40</td>\n",
       "      <td>84.13</td>\n",
       "      <td>84.80</td>\n",
       "      <td>82.03</td>\n",
       "      <td>129.91K</td>\n",
       "      <td>-1.38%</td>\n",
       "    </tr>\n",
       "    <tr>\n",
       "      <th>13</th>\n",
       "      <td>Jan 26, 2024</td>\n",
       "      <td>83.55</td>\n",
       "      <td>82.44</td>\n",
       "      <td>83.81</td>\n",
       "      <td>81.31</td>\n",
       "      <td>240.25K</td>\n",
       "      <td>1.36%</td>\n",
       "    </tr>\n",
       "    <tr>\n",
       "      <th>14</th>\n",
       "      <td>Jan 25, 2024</td>\n",
       "      <td>82.43</td>\n",
       "      <td>80.31</td>\n",
       "      <td>82.57</td>\n",
       "      <td>80.06</td>\n",
       "      <td>248.18K</td>\n",
       "      <td>2.99%</td>\n",
       "    </tr>\n",
       "    <tr>\n",
       "      <th>15</th>\n",
       "      <td>Jan 24, 2024</td>\n",
       "      <td>80.04</td>\n",
       "      <td>79.56</td>\n",
       "      <td>80.73</td>\n",
       "      <td>79.05</td>\n",
       "      <td>230.75K</td>\n",
       "      <td>0.62%</td>\n",
       "    </tr>\n",
       "    <tr>\n",
       "      <th>16</th>\n",
       "      <td>Jan 23, 2024</td>\n",
       "      <td>79.55</td>\n",
       "      <td>79.92</td>\n",
       "      <td>80.43</td>\n",
       "      <td>78.70</td>\n",
       "      <td>331.10K</td>\n",
       "      <td>-0.64%</td>\n",
       "    </tr>\n",
       "    <tr>\n",
       "      <th>17</th>\n",
       "      <td>Jan 22, 2024</td>\n",
       "      <td>80.06</td>\n",
       "      <td>78.89</td>\n",
       "      <td>80.55</td>\n",
       "      <td>77.81</td>\n",
       "      <td>319.71K</td>\n",
       "      <td>1.91%</td>\n",
       "    </tr>\n",
       "    <tr>\n",
       "      <th>18</th>\n",
       "      <td>Jan 19, 2024</td>\n",
       "      <td>78.56</td>\n",
       "      <td>79.10</td>\n",
       "      <td>79.73</td>\n",
       "      <td>78.32</td>\n",
       "      <td>282.31K</td>\n",
       "      <td>-0.68%</td>\n",
       "    </tr>\n",
       "    <tr>\n",
       "      <th>19</th>\n",
       "      <td>Jan 18, 2024</td>\n",
       "      <td>79.10</td>\n",
       "      <td>78.15</td>\n",
       "      <td>79.30</td>\n",
       "      <td>77.33</td>\n",
       "      <td>325.29K</td>\n",
       "      <td>1.57%</td>\n",
       "    </tr>\n",
       "    <tr>\n",
       "      <th>20</th>\n",
       "      <td>Jan 17, 2024</td>\n",
       "      <td>77.88</td>\n",
       "      <td>77.77</td>\n",
       "      <td>78.19</td>\n",
       "      <td>76.50</td>\n",
       "      <td>355.40K</td>\n",
       "      <td>-0.52%</td>\n",
       "    </tr>\n",
       "    <tr>\n",
       "      <th>21</th>\n",
       "      <td>Jan 16, 2024</td>\n",
       "      <td>78.29</td>\n",
       "      <td>78.43</td>\n",
       "      <td>79.40</td>\n",
       "      <td>77.60</td>\n",
       "      <td>298.55K</td>\n",
       "      <td>0.18%</td>\n",
       "    </tr>\n",
       "  </tbody>\n",
       "</table>\n",
       "</div>"
      ],
      "text/plain": [
       "            Date  Price   Open   High    Low   Volume    Chg%\n",
       "0   Feb 14, 2024  82.66  82.54  82.75  82.33        0  -0.13%\n",
       "1   Feb 13, 2024  82.77  82.00  83.24  81.96  331.80K   0.94%\n",
       "2   Feb 12, 2024  82.00  81.94  82.19  80.77  246.24K  -0.23%\n",
       "3   Feb 09, 2024  82.19  81.72  82.45  81.21  315.32K   0.69%\n",
       "4   Feb 08, 2024  81.63  79.30  81.90  79.03  436.50K   3.06%\n",
       "5   Feb 07, 2024  79.21  78.70  79.50  78.49  291.68K   0.79%\n",
       "6   Feb 06, 2024  78.59  77.95  79.08  77.63  305.61K   0.77%\n",
       "7   Feb 05, 2024  77.99  77.90  78.33  76.62  293.37K   0.85%\n",
       "8   Feb 02, 2024  77.33  79.15  79.44  76.85  411.75K  -1.74%\n",
       "9   Feb 01, 2024  78.70  80.57  81.55  78.57  525.77K  -3.68%\n",
       "10  Jan 31, 2024  81.71  82.94  82.94  81.59   14.38K  -1.40%\n",
       "11  Jan 30, 2024  82.87  82.62  83.30  81.34   89.31K   0.57%\n",
       "12  Jan 29, 2024  82.40  84.13  84.80  82.03  129.91K  -1.38%\n",
       "13  Jan 26, 2024  83.55  82.44  83.81  81.31  240.25K   1.36%\n",
       "14  Jan 25, 2024  82.43  80.31  82.57  80.06  248.18K   2.99%\n",
       "15  Jan 24, 2024  80.04  79.56  80.73  79.05  230.75K   0.62%\n",
       "16  Jan 23, 2024  79.55  79.92  80.43  78.70  331.10K  -0.64%\n",
       "17  Jan 22, 2024  80.06  78.89  80.55  77.81  319.71K   1.91%\n",
       "18  Jan 19, 2024  78.56  79.10  79.73  78.32  282.31K  -0.68%\n",
       "19  Jan 18, 2024  79.10  78.15  79.30  77.33  325.29K   1.57%\n",
       "20  Jan 17, 2024  77.88  77.77  78.19  76.50  355.40K  -0.52%\n",
       "21  Jan 16, 2024  78.29  78.43  79.40  77.60  298.55K   0.18%"
      ]
     },
     "execution_count": 11,
     "metadata": {},
     "output_type": "execute_result"
    }
   ],
   "source": [
    "df.head(100)"
   ]
  },
  {
   "cell_type": "code",
   "execution_count": 20,
   "metadata": {},
   "outputs": [],
   "source": [
    "# Rename columns if necessary\n",
    "df.rename(columns={'Date': 'Created_Date'}, inplace=True)"
   ]
  },
  {
   "cell_type": "code",
   "execution_count": 21,
   "metadata": {},
   "outputs": [
    {
     "name": "stdout",
     "output_type": "stream",
     "text": [
      "Index(['Created_Date', 'Price', 'Open', 'High', 'Low', 'Volume', 'Chg%'], dtype='object')\n"
     ]
    }
   ],
   "source": [
    "print(df.columns)"
   ]
  },
  {
   "cell_type": "code",
   "execution_count": 22,
   "metadata": {},
   "outputs": [],
   "source": [
    "\n",
    "# Convert the 'Created_Date' column to datetime\n",
    "df['Created_Date'] = pd.to_datetime(df['Created_Date'])"
   ]
  },
  {
   "cell_type": "code",
   "execution_count": 23,
   "metadata": {},
   "outputs": [],
   "source": [
    "# Assuming 'Price', 'Open', 'High', 'Low' columns exist and need type conversion\n",
    "for column in ['Price', 'Open', 'High', 'Low']:\n",
    "    df[column] = pd.to_numeric(df[column], errors='coerce')"
   ]
  },
  {
   "cell_type": "code",
   "execution_count": 24,
   "metadata": {},
   "outputs": [],
   "source": [
    "# Add a custom column\n",
    "df['Product Name'] = 'Brent-Oil'"
   ]
  },
  {
   "cell_type": "code",
   "execution_count": 25,
   "metadata": {},
   "outputs": [],
   "source": [
    "# Filter rows (last 6 days or the latest date)\n",
    "max_date = df['Created_Date'].max()\n",
    "filter_condition = (df['Created_Date'] > (max_date - pd.Timedelta(days=6))) | (df['Created_Date'] == max_date)\n",
    "filtered_df = df[filter_condition]"
   ]
  },
  {
   "cell_type": "code",
   "execution_count": 1,
   "metadata": {},
   "outputs": [
    {
     "ename": "NameError",
     "evalue": "name 'filtered_df' is not defined",
     "output_type": "error",
     "traceback": [
      "\u001b[1;31m---------------------------------------------------------------------------\u001b[0m",
      "\u001b[1;31mNameError\u001b[0m                                 Traceback (most recent call last)",
      "Cell \u001b[1;32mIn[1], line 1\u001b[0m\n\u001b[1;32m----> 1\u001b[0m \u001b[43mfiltered_df\u001b[49m\u001b[38;5;241m.\u001b[39mhead(\u001b[38;5;241m10\u001b[39m)\n",
      "\u001b[1;31mNameError\u001b[0m: name 'filtered_df' is not defined"
     ]
    }
   ],
   "source": [
    "filtered_df.head(10)"
   ]
  },
  {
   "cell_type": "code",
   "execution_count": 1,
   "metadata": {},
   "outputs": [
    {
     "data": {
      "text/plain": [
       "''"
      ]
     },
     "execution_count": 1,
     "metadata": {},
     "output_type": "execute_result"
    }
   ],
   "source": [
    "'''\n",
    "pk -> createdDate+prdName+websitename\n",
    "table desc -> \n",
    "Created_Date\t\n",
    "Price\t\n",
    "Open\t\n",
    "High\t\n",
    "Low\t\n",
    "Volume\t\n",
    "Chg%\t\n",
    "Product Name\n",
    "PK\n",
    "type -> fg/rm\n",
    "\n",
    ".yaml file mapping for website\n",
    "\n",
    "'''"
   ]
  },
  {
   "cell_type": "code",
   "execution_count": 12,
   "metadata": {},
   "outputs": [
    {
     "name": "stdout",
     "output_type": "stream",
     "text": [
      "Current timestamp: 2024-02-14 12:19:50.015820\n",
      "Today's date: 2024-02-14\n"
     ]
    }
   ],
   "source": [
    "from datetime import datetime, date\n",
    "\n",
    "# Get the current timestamp\n",
    "now = datetime.now()\n",
    "print(f\"Current timestamp: {now}\")\n",
    "\n",
    "# Get today's date\n",
    "today = date.today()\n",
    "print(f\"Today's date: {today}\")\n"
   ]
  },
  {
   "cell_type": "code",
   "execution_count": null,
   "metadata": {},
   "outputs": [],
   "source": []
  }
 ],
 "metadata": {
  "kernelspec": {
   "display_name": "Python 3",
   "language": "python",
   "name": "python3"
  },
  "language_info": {
   "codemirror_mode": {
    "name": "ipython",
    "version": 3
   },
   "file_extension": ".py",
   "mimetype": "text/x-python",
   "name": "python",
   "nbconvert_exporter": "python",
   "pygments_lexer": "ipython3",
   "version": "3.12.1"
  }
 },
 "nbformat": 4,
 "nbformat_minor": 2
}
