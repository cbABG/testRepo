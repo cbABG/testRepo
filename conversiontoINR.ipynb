{
 "cells": [
  {
   "cell_type": "code",
   "execution_count": 2,
   "metadata": {},
   "outputs": [
    {
     "name": "stderr",
     "output_type": "stream",
     "text": [
      "C:\\Users\\chandan.bhardwaj\\AppData\\Local\\Temp\\ipykernel_24560\\1222050232.py:3: DeprecationWarning: \n",
      "Pyarrow will become a required dependency of pandas in the next major release of pandas (pandas 3.0),\n",
      "(to allow more performant data types, such as the Arrow string type, and better interoperability with other libraries)\n",
      "but was not found to be installed on your system.\n",
      "If this would cause problems for you,\n",
      "please provide us feedback at https://github.com/pandas-dev/pandas/issues/54466\n",
      "        \n",
      "  import pandas as pd\n"
     ]
    }
   ],
   "source": [
    "import requests\n",
    "from bs4 import BeautifulSoup\n",
    "import pandas as pd"
   ]
  },
  {
   "cell_type": "code",
   "execution_count": 6,
   "metadata": {},
   "outputs": [],
   "source": [
    "# Fetch webpage content\n",
    "url = \"https://in.investing.com/currencies/cny-inr-historical-data\"\n",
    "#headers = {\n",
    "#    \"User-Agent\": \"Mozilla/5.0\"\n",
    "#}\n",
    "response = requests.get(url)#, headers=headers)\n",
    "webpage = response.text"
   ]
  },
  {
   "cell_type": "code",
   "execution_count": 7,
   "metadata": {},
   "outputs": [],
   "source": [
    "# Parse HTML and extract data\n",
    "soup = BeautifulSoup(webpage, \"html.parser\")\n",
    "table_rows = soup.select(\"table.common-table.medium.js-table > * > tr\")\n",
    "\n",
    "# Extracting data\n",
    "data = []\n",
    "for row in table_rows:\n",
    "    cols = row.select(\":scope > td\")\n",
    "    if cols:\n",
    "        data.append([col.text for col in cols])"
   ]
  },
  {
   "cell_type": "code",
   "execution_count": 8,
   "metadata": {},
   "outputs": [
    {
     "name": "stdout",
     "output_type": "stream",
     "text": [
      "No data extracted.\n"
     ]
    }
   ],
   "source": [
    "# Create DataFrame and promote headers\n",
    "if data:\n",
    "    df = pd.DataFrame(data[1:], columns=[col.text for col in table_rows[0].select(\":scope > th\")])\n",
    "\n",
    "    # Convert data types\n",
    "    # Assuming you know the exact format and types of columns, you may need to adjust this part\n",
    "    df['Date'] = pd.to_datetime(df['Date'])\n",
    "    numeric_cols = ['Price', 'Open', 'High', 'Low', 'Volume', 'Chg%']\n",
    "    for col in numeric_cols:\n",
    "        # Remove commas for thousands, % signs, and convert to appropriate types\n",
    "        df[col] = df[col].str.replace(',', '').str.replace('%', '', regex=False).astype(float)\n",
    "        if col == 'Volume':\n",
    "            df[col] = df[col].astype('Int64')\n",
    "\n",
    "    # Save to CSV\n",
    "    df.to_csv('RMB_to_INR_Conversion.csv', index=False)\n",
    "else:\n",
    "    print(\"No data extracted.\")"
   ]
  },
  {
   "cell_type": "code",
   "execution_count": null,
   "metadata": {},
   "outputs": [],
   "source": []
  }
 ],
 "metadata": {
  "kernelspec": {
   "display_name": "Python 3",
   "language": "python",
   "name": "python3"
  },
  "language_info": {
   "codemirror_mode": {
    "name": "ipython",
    "version": 3
   },
   "file_extension": ".py",
   "mimetype": "text/x-python",
   "name": "python",
   "nbconvert_exporter": "python",
   "pygments_lexer": "ipython3",
   "version": "3.12.1"
  }
 },
 "nbformat": 4,
 "nbformat_minor": 2
}
